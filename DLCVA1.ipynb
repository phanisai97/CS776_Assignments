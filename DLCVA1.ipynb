{
 "cells": [
  {
   "cell_type": "code",
   "execution_count": 1,
   "id": "af2f71d3",
   "metadata": {},
   "outputs": [],
   "source": [
    "\n",
    "def unpickle(file):\n",
    "    import pickle\n",
    "    with open(file, 'rb') as fo:\n",
    "        dict = pickle.load(fo, encoding='bytes')\n",
    "    return dict"
   ]
  },
  {
   "cell_type": "code",
   "execution_count": 3,
   "id": "c302df75",
   "metadata": {},
   "outputs": [
    {
     "data": {
      "text/plain": [
       "(4,)"
      ]
     },
     "execution_count": 3,
     "metadata": {},
     "output_type": "execute_result"
    }
   ],
   "source": [
    "import numpy as np\n",
    "x = np.random.rand(4, 5)\n",
    "\n",
    "y = np.sum(x, axis=1)\n",
    "y.shape"
   ]
  },
  {
   "cell_type": "code",
   "execution_count": null,
   "id": "e3387917",
   "metadata": {},
   "outputs": [],
   "source": [
    "file = r'/Users/gnanendra/Desktop/DLCV A1/cifar-10-batches-py/data_batch_1'"
   ]
  },
  {
   "cell_type": "code",
   "execution_count": null,
   "id": "3b83a3ab",
   "metadata": {},
   "outputs": [],
   "source": [
    "data_batch_1 = unpickle(file)"
   ]
  },
  {
   "cell_type": "code",
   "execution_count": null,
   "id": "a6c8456e",
   "metadata": {},
   "outputs": [],
   "source": [
    "data_batch_1"
   ]
  },
  {
   "cell_type": "code",
   "execution_count": null,
   "id": "62fc89ee",
   "metadata": {},
   "outputs": [],
   "source": [
    "type(data_batch_1)"
   ]
  },
  {
   "cell_type": "code",
   "execution_count": null,
   "id": "5923fe86",
   "metadata": {},
   "outputs": [],
   "source": [
    "len(data_batch_1)"
   ]
  },
  {
   "cell_type": "code",
   "execution_count": null,
   "id": "61e5d6c6",
   "metadata": {},
   "outputs": [],
   "source": [
    "data_batch_1.keys()"
   ]
  },
  {
   "cell_type": "code",
   "execution_count": null,
   "id": "6349f263",
   "metadata": {},
   "outputs": [],
   "source": [
    "data_batch_1[b'data']"
   ]
  },
  {
   "cell_type": "code",
   "execution_count": null,
   "id": "6838e023",
   "metadata": {},
   "outputs": [],
   "source": [
    "data_batch_1[b'data'].shape"
   ]
  },
  {
   "cell_type": "code",
   "execution_count": null,
   "id": "36e9599f",
   "metadata": {},
   "outputs": [],
   "source": [
    "data_batch_1[b'data'][0]"
   ]
  },
  {
   "cell_type": "code",
   "execution_count": null,
   "id": "3f8ca7bb",
   "metadata": {},
   "outputs": [],
   "source": [
    "data_batch_1[b'data'][0].shape"
   ]
  },
  {
   "cell_type": "markdown",
   "id": "08f69475",
   "metadata": {},
   "source": [
    "Reshape the Image"
   ]
  },
  {
   "cell_type": "code",
   "execution_count": null,
   "id": "111349b0",
   "metadata": {},
   "outputs": [],
   "source": [
    "image = data_batch_1[b'data'][0]\n",
    "image = image.reshape(3,32,32)\n",
    "image"
   ]
  },
  {
   "cell_type": "code",
   "execution_count": null,
   "id": "0e6d81de",
   "metadata": {},
   "outputs": [],
   "source": [
    "from PIL import Image\n"
   ]
  },
  {
   "cell_type": "code",
   "execution_count": null,
   "id": "911f3e39",
   "metadata": {},
   "outputs": [],
   "source": [
    "'''\n",
    "im = Image.open('data_batch_1[b'data'][0]')\n",
    "'''"
   ]
  },
  {
   "cell_type": "code",
   "execution_count": null,
   "id": "272d80b4",
   "metadata": {},
   "outputs": [],
   "source": [
    "image = image.transpose(1,2,0)\n",
    "print(image.shape)\n",
    "image"
   ]
  },
  {
   "cell_type": "markdown",
   "id": "6fdccbc6",
   "metadata": {},
   "source": [
    "Visualization"
   ]
  },
  {
   "cell_type": "code",
   "execution_count": null,
   "id": "7bc3209e",
   "metadata": {},
   "outputs": [],
   "source": [
    "import matplotlib.pyplot as plt\n",
    "plt.imshow(image)"
   ]
  },
  {
   "cell_type": "code",
   "execution_count": null,
   "id": "44b677d6",
   "metadata": {},
   "outputs": [],
   "source": [
    "data = data_batch_1[b'data']\n",
    "data = data.reshape(len(data),3,32,32).transpose(0,2,3,1)\n",
    "print(data.shape)\n",
    "plt.imshow(data[0])"
   ]
  },
  {
   "cell_type": "code",
   "execution_count": null,
   "id": "0a799ca2",
   "metadata": {},
   "outputs": [],
   "source": [
    "# Visulaize upto n images\n",
    "n = 16\n",
    "for i in range(16) :\n",
    "    plt.subplot(4,4,i+1)\n",
    "    plt.imshow(data[i])\n",
    "plt.show()"
   ]
  },
  {
   "cell_type": "code",
   "execution_count": null,
   "id": "e926cc99",
   "metadata": {},
   "outputs": [],
   "source": [
    "columns = 5\n",
    "rows = 4\n",
    "fig = plt.figure(figsize=(8,8))\n",
    "for i in range(1,columns*rows+1):\n",
    "    fig.add_subplot(rows,columns,i)\n",
    "    plt.imshow(data[i])\n",
    "plt.show()"
   ]
  },
  {
   "cell_type": "code",
   "execution_count": null,
   "id": "731604dd",
   "metadata": {},
   "outputs": [],
   "source": [
    "print(data.shape)\n",
    "image_no,length,breadth,channelno = data.shape\n",
    "print(image_no,length,breadth,channelno)\n",
    "data[0,0,0,2]"
   ]
  },
  {
   "cell_type": "code",
   "execution_count": null,
   "id": "fe69ea95",
   "metadata": {},
   "outputs": [],
   "source": [
    "# min, max, mean_min, mean_max\n",
    "#def "
   ]
  },
  {
   "cell_type": "code",
   "execution_count": null,
   "id": "5c0cbd90",
   "metadata": {},
   "outputs": [],
   "source": [
    "#Posterization of Image\n",
    "def posterize(data) :\n",
    "\n",
    "    image_no,length,breadth,channelno = data.shape\n",
    "    import math\n",
    "    min = 69*2\n",
    "    max = 69*3\n",
    "\n",
    "    for ino in range(image_no):                       # ino is iteration of image number\n",
    "        for lno in range(length):                     # lno is iteration of length\n",
    "            for bno in range(breadth):                # bno is iteration of breadth\n",
    "                for cno in range(channelno):          # cno is iteration of channel number\n",
    "                    r = max - min\n",
    "                    divider = 255 / r\n",
    "                    data[ino,lno,bno,cno] = data[ino,lno,bno,cno] / divider\n",
    "                    data[ino,lno,bno,cno] = math.floor(data[ino,lno,bno,cno] + min)\n",
    "\n",
    "    return data\n"
   ]
  },
  {
   "cell_type": "code",
   "execution_count": null,
   "id": "d5ef37d7",
   "metadata": {
    "scrolled": true
   },
   "outputs": [],
   "source": [
    "#data_afterposterization = posterize(data)\n",
    "#plt.imshow(data_afterposterization[0])\n"
   ]
  },
  {
   "cell_type": "code",
   "execution_count": null,
   "id": "017e2e21",
   "metadata": {},
   "outputs": [],
   "source": [
    "# Visulaize upto n images\n",
    "#n = 16\n",
    "#for i in range(16) :\n",
    "#    plt.subplot(4,4,i+1)\n",
    "#    plt.imshow(data_afterposterization[i])\n",
    "#plt.show()"
   ]
  },
  {
   "cell_type": "code",
   "execution_count": null,
   "id": "f0cbe6d8",
   "metadata": {},
   "outputs": [],
   "source": [
    "# random rotate function\n",
    "# def getRotationMatrix2D()\n",
    "import cv2\n",
    "\n",
    "# Reading the image\n",
    "image = cv2.imread('image.jpeg')\n",
    "\n",
    "# Extracting height and width from\n",
    "# image shape\n",
    "height, width = image.shape[:2]\n",
    "\n",
    "# get the center coordinates of the\n",
    "# image to create the 2D rotation\n",
    "# matrix\n",
    "center = (width/2, height/2)\n",
    "\n",
    "# using cv2.getRotationMatrix2D()\n",
    "# to get the rotation matrix\n",
    "rotate_matrix = cv2.getRotationMatrix2D(center=center, angle=90, scale=1)\n",
    "\n",
    "# rotate the image using cv2.warpAffine\n",
    "# 90 degree anticlockwise\n",
    "rotated_image = cv2.warpAffine(\n",
    "\tsrc=image, M=rotate_matrix, dsize=(width, height))\n",
    "\n",
    "cv2.imshow(\"rotated image:\", rotated_image)\n",
    "cv2.imwrite('rotated_image.jpg', rotated_image)\n"
   ]
  },
  {
   "cell_type": "code",
   "execution_count": null,
   "id": "03cd111b",
   "metadata": {},
   "outputs": [],
   "source": [
    "def mygetRotationMatrix2D(centerx , centery , angle, scale) :\n",
    "    \n",
    "    import math\n",
    "    angle = math.radians(angle)\n",
    "    rows, cols = (2, 3)\n",
    "    matrix = [[0 for i in range(cols)] for j in range(rows)]\n",
    "    \n",
    "    print(matrix)\n",
    "    alpha = scale * math.cos(angle)\n",
    "    beta = scale*math.sin(angle)\n",
    "    matrix[0][0] = alpha\n",
    "    matrix[0][1] = beta\n",
    "    matrix[0][2] = (1-alpha)*centerx - beta*centery\n",
    "    matrix[1][0] = -beta\n",
    "    matrix[1][1] = alpha\n",
    "    matrix[1][2] = beta*centerx + (1-alpha)*centery\n",
    "    \n",
    "    return matrix\n",
    "\n",
    "\n",
    "    "
   ]
  },
  {
   "cell_type": "code",
   "execution_count": null,
   "id": "2d35f7b0",
   "metadata": {},
   "outputs": [],
   "source": [
    "Ma = mygetRotationMatrix2D(16,16,90,1)\n",
    "Ma"
   ]
  },
  {
   "cell_type": "code",
   "execution_count": null,
   "id": "b030ba55",
   "metadata": {},
   "outputs": [],
   "source": [
    "import cv2\n",
    "center = (16,16)\n",
    "angle = 90\n",
    "scale = 1\n",
    "transform_matrix = cv2.getRotationMatrix2D(center, angle, scale)\n",
    "transform_matrix\n",
    "\n",
    "#center: Center of the rotation in the source image.\n",
    "#angle: Rotation angle in degrees. Positive values mean counter-clockwise rotation (the coordinate origin is assumed to be the top-left corner).\n",
    "#scale:\tIsotropic scale factor.\n"
   ]
  },
  {
   "cell_type": "code",
   "execution_count": null,
   "id": "218d86ab",
   "metadata": {},
   "outputs": [],
   "source": [
    "_,rows,cols,_ = data.shape\n",
    "print(rows)\n",
    "print(cols)\n",
    "data.shape"
   ]
  },
  {
   "cell_type": "code",
   "execution_count": null,
   "id": "a815305a",
   "metadata": {},
   "outputs": [],
   "source": [
    "def mywarpAffine(source,matrix,size) :\n",
    "    _,rows , cols,_ = source.shape\n",
    "    destination = [[0 for i in range(cols)] for j in range(rows)]\n",
    "    print(destination)\n",
    "    \n",
    "    lno,bno,cno = source.shape\n",
    "    source\n",
    "    for i in range(lno):\n",
    "        source1 = source\n",
    "    destination = M * source\n",
    "    \n",
    "    \n",
    "    \n",
    "    "
   ]
  },
  {
   "cell_type": "code",
   "execution_count": null,
   "id": "4da6730d",
   "metadata": {},
   "outputs": [],
   "source": []
  },
  {
   "cell_type": "code",
   "execution_count": null,
   "id": "898da791",
   "metadata": {},
   "outputs": [],
   "source": [
    "import numpy as np\n",
    "import cv2\n",
    "\n",
    "# Read an image\n",
    "img = cv2.imread('/Users/gnanendra/Downloads/IMG20221216143132.jpg')\n",
    "rows,cols,_ = img.shape\n",
    "\n",
    "# Create the transformation matrix\n",
    "angle = np.radians(90)\n",
    "x0, y0 = ((cols-1)/2.0,(rows-1)/2.0)\n",
    "M = np.array([[np.cos(angle), -np.sin(angle), x0*(1-np.cos(angle))+ y0*np.sin(angle)],\n",
    "              [np.sin(angle), np.cos(angle), y0*(1-np.cos(angle))- x0*np.sin(angle)]])\n",
    "# get the coordinates in the form of (0,0),(0,1)...\n",
    "# the shape is (2, rows*cols)\n",
    "orig_coord = np.indices((cols, rows)).reshape(2,-1)\n",
    "# stack the rows of 1 to form [x,y,1]\n",
    "orig_coord_f = np.vstack((orig_coord, np.ones(rows*cols)))\n",
    "transform_coord = np.dot(M, orig_coord_f)\n",
    "# Change into int type\n",
    "transform_coord = transform_coord.astype(int)\n",
    "# Keep only the coordinates that fall within the image boundary.\n",
    "indices = np.all((transform_coord[1]<rows, transform_coord[0]<cols, transform_coord[1]>=0, transform_coord[0]>=0), axis=0)\n",
    "# Create a zeros image and project the points\n",
    "img1 = np.zeros_like(img)\n",
    "img1[transform_coord[1][indices], transform_coord[0][indices]] = img[orig_coord[1][indices], orig_coord[0][indices]]\n",
    "# Display the image\n",
    "out = cv2.hconcat([img,img1])\n",
    "cv2.imshow('a2',out)\n",
    "cv2.waitKey(0)"
   ]
  },
  {
   "cell_type": "code",
   "execution_count": null,
   "id": "e15aeb87",
   "metadata": {},
   "outputs": [],
   "source": [
    "#def rotate( ) :\n",
    "   "
   ]
  },
  {
   "cell_type": "code",
   "execution_count": null,
   "id": "9749698c",
   "metadata": {},
   "outputs": [],
   "source": []
  }
 ],
 "metadata": {
  "kernelspec": {
   "display_name": "Python 3 (ipykernel)",
   "language": "python",
   "name": "python3"
  },
  "language_info": {
   "codemirror_mode": {
    "name": "ipython",
    "version": 3
   },
   "file_extension": ".py",
   "mimetype": "text/x-python",
   "name": "python",
   "nbconvert_exporter": "python",
   "pygments_lexer": "ipython3",
   "version": "3.9.13"
  }
 },
 "nbformat": 4,
 "nbformat_minor": 5
}
